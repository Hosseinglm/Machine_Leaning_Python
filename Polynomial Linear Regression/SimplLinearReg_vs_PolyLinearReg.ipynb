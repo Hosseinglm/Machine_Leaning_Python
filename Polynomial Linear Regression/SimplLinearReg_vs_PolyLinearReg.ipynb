{
 "cells": [
  {
   "attachments": {},
   "cell_type": "markdown",
   "id": "b34b0b03",
   "metadata": {
    "papermill": {
     "duration": 0.039625,
     "end_time": "2022-02-14T03:45:05.139500",
     "exception": false,
     "start_time": "2022-02-14T03:45:05.099875",
     "status": "completed"
    },
    "pycharm": {
     "name": "#%% md\n"
    },
    "tags": []
   },
   "source": [
    "# Simple Linear & Polynomial Regresstion"
   ]
  },
  {
   "attachments": {
    "machine-learning-polynomial-regression.png": {
     "image/png": "[encoded data removed]"
    }
   },
   "cell_type": "markdown",
   "id": "ceade747",
   "metadata": {},
   "source": [
    "In statistics, polynomial regression is a form of regression analysis in which the relationship between the independent variable x and the dependent variable y is modelled as an nth degree polynomial in x.\n",
    "The need of Polynomial Regression in ML can be understood in the below points:\n",
    "\n",
    "-If we apply a linear model on a linear dataset, then it provides us a good result as we have seen in Simple Linear Regression, but if we apply the same model without any modification on a non-linear dataset, then it will produce a drastic output. Due to which loss function will increase, the error rate will be high, and accuracy will be decreased.\n",
    "\n",
    "-So for such cases, where data points are arranged in a non-linear fashion, we need the Polynomial Regression model. We can understand it in a better way using the below comparison diagram of the linear dataset and non-linear dataset.\n",
    "\n",
    "![machine-learning-polynomial-regression.png](attachment:machine-learning-polynomial-regression.png)"
   ]
  },
  {
   "cell_type": "code",
   "execution_count": 1,
   "id": "52da6a73",
   "metadata": {
    "execution": {
     "iopub.execute_input": "2022-02-14T03:45:05.231750Z",
     "iopub.status.busy": "2022-02-14T03:45:05.231135Z",
     "iopub.status.idle": "2022-02-14T03:45:06.441067Z",
     "shell.execute_reply": "2022-02-14T03:45:06.440220Z",
     "shell.execute_reply.started": "2022-02-14T03:41:35.561309Z"
    },
    "jupyter": {
     "outputs_hidden": false
    },
    "papermill": {
     "duration": 1.262471,
     "end_time": "2022-02-14T03:45:06.441244",
     "exception": false,
     "start_time": "2022-02-14T03:45:05.178773",
     "status": "completed"
    },
    "pycharm": {
     "name": "#%%\n"
    },
    "tags": []
   },
   "outputs": [],
   "source": [
    "### Import libraries\n",
    "\n",
    "import numpy as np\n",
    "import pandas as pd\n",
    "import matplotlib.pyplot as plt\n",
    "import seaborn as sns"
   ]
  },
  {
   "cell_type": "code",
   "execution_count": 2,
   "id": "41018882",
   "metadata": {
    "execution": {
     "iopub.execute_input": "2022-02-14T03:45:06.524272Z",
     "iopub.status.busy": "2022-02-14T03:45:06.523592Z",
     "iopub.status.idle": "2022-02-14T03:45:06.553815Z",
     "shell.execute_reply": "2022-02-14T03:45:06.554323Z",
     "shell.execute_reply.started": "2022-02-14T03:41:36.831404Z"
    },
    "jupyter": {
     "outputs_hidden": false
    },
    "papermill": {
     "duration": 0.073791,
     "end_time": "2022-02-14T03:45:06.554487",
     "exception": false,
     "start_time": "2022-02-14T03:45:06.480696",
     "status": "completed"
    },
    "pycharm": {
     "name": "#%%\n"
    },
    "tags": []
   },
   "outputs": [
    {
     "data": {
      "text/html": [
       "<div>\n",
       "<style scoped>\n",
       "    .dataframe tbody tr th:only-of-type {\n",
       "        vertical-align: middle;\n",
       "    }\n",
       "\n",
       "    .dataframe tbody tr th {\n",
       "        vertical-align: top;\n",
       "    }\n",
       "\n",
       "    .dataframe thead th {\n",
       "        text-align: right;\n",
       "    }\n",
       "</style>\n",
       "<table border=\"1\" class=\"dataframe\">\n",
       "  <thead>\n",
       "    <tr style=\"text-align: right;\">\n",
       "      <th></th>\n",
       "      <th>No</th>\n",
       "      <th>X1 transaction date</th>\n",
       "      <th>X2 house age</th>\n",
       "      <th>X3 distance to the nearest MRT station</th>\n",
       "      <th>X4 number of convenience stores</th>\n",
       "      <th>X5 latitude</th>\n",
       "      <th>X6 longitude</th>\n",
       "      <th>Y house price of unit area</th>\n",
       "    </tr>\n",
       "  </thead>\n",
       "  <tbody>\n",
       "    <tr>\n",
       "      <th>0</th>\n",
       "      <td>1</td>\n",
       "      <td>2012.917</td>\n",
       "      <td>32.0</td>\n",
       "      <td>84.87882</td>\n",
       "      <td>10</td>\n",
       "      <td>24.98298</td>\n",
       "      <td>121.54024</td>\n",
       "      <td>37.9</td>\n",
       "    </tr>\n",
       "    <tr>\n",
       "      <th>1</th>\n",
       "      <td>2</td>\n",
       "      <td>2012.917</td>\n",
       "      <td>19.5</td>\n",
       "      <td>306.59470</td>\n",
       "      <td>9</td>\n",
       "      <td>24.98034</td>\n",
       "      <td>121.53951</td>\n",
       "      <td>42.2</td>\n",
       "    </tr>\n",
       "    <tr>\n",
       "      <th>2</th>\n",
       "      <td>3</td>\n",
       "      <td>2013.583</td>\n",
       "      <td>13.3</td>\n",
       "      <td>561.98450</td>\n",
       "      <td>5</td>\n",
       "      <td>24.98746</td>\n",
       "      <td>121.54391</td>\n",
       "      <td>47.3</td>\n",
       "    </tr>\n",
       "    <tr>\n",
       "      <th>3</th>\n",
       "      <td>4</td>\n",
       "      <td>2013.500</td>\n",
       "      <td>13.3</td>\n",
       "      <td>561.98450</td>\n",
       "      <td>5</td>\n",
       "      <td>24.98746</td>\n",
       "      <td>121.54391</td>\n",
       "      <td>54.8</td>\n",
       "    </tr>\n",
       "    <tr>\n",
       "      <th>4</th>\n",
       "      <td>5</td>\n",
       "      <td>2012.833</td>\n",
       "      <td>5.0</td>\n",
       "      <td>390.56840</td>\n",
       "      <td>5</td>\n",
       "      <td>24.97937</td>\n",
       "      <td>121.54245</td>\n",
       "      <td>43.1</td>\n",
       "    </tr>\n",
       "  </tbody>\n",
       "</table>\n",
       "</div>"
      ],
      "text/plain": [
       "   No  X1 transaction date  X2 house age  \\\n",
       "0   1             2012.917          32.0   \n",
       "1   2             2012.917          19.5   \n",
       "2   3             2013.583          13.3   \n",
       "3   4             2013.500          13.3   \n",
       "4   5             2012.833           5.0   \n",
       "\n",
       "   X3 distance to the nearest MRT station  X4 number of convenience stores  \\\n",
       "0                                84.87882                               10   \n",
       "1                               306.59470                                9   \n",
       "2                               561.98450                                5   \n",
       "3                               561.98450                                5   \n",
       "4                               390.56840                                5   \n",
       "\n",
       "   X5 latitude  X6 longitude  Y house price of unit area  \n",
       "0     24.98298     121.54024                        37.9  \n",
       "1     24.98034     121.53951                        42.2  \n",
       "2     24.98746     121.54391                        47.3  \n",
       "3     24.98746     121.54391                        54.8  \n",
       "4     24.97937     121.54245                        43.1  "
      ]
     },
     "execution_count": 2,
     "metadata": {},
     "output_type": "execute_result"
    }
   ],
   "source": [
    "### Import the Data\n",
    "\n",
    "df = pd.read_csv('Real_estate.csv')\n",
    "df.head(5)"
   ]
  },
  {
   "cell_type": "code",
   "execution_count": 3,
   "id": "f0adac5c",
   "metadata": {
    "execution": {
     "iopub.execute_input": "2022-02-14T03:45:19.883353Z",
     "iopub.status.busy": "2022-02-14T03:45:19.882677Z",
     "iopub.status.idle": "2022-02-14T03:45:19.902616Z",
     "shell.execute_reply": "2022-02-14T03:45:19.903204Z",
     "shell.execute_reply.started": "2022-02-14T03:41:48.760535Z"
    },
    "jupyter": {
     "outputs_hidden": false
    },
    "papermill": {
     "duration": 0.081615,
     "end_time": "2022-02-14T03:45:19.903391",
     "exception": false,
     "start_time": "2022-02-14T03:45:19.821776",
     "status": "completed"
    },
    "pycharm": {
     "name": "#%%\n"
    },
    "tags": []
   },
   "outputs": [
    {
     "name": "stdout",
     "output_type": "stream",
     "text": [
      "<class 'pandas.core.frame.DataFrame'>\n",
      "RangeIndex: 414 entries, 0 to 413\n",
      "Data columns (total 8 columns):\n",
      " #   Column                                  Non-Null Count  Dtype  \n",
      "---  ------                                  --------------  -----  \n",
      " 0   No                                      414 non-null    int64  \n",
      " 1   X1 transaction date                     414 non-null    float64\n",
      " 2   X2 house age                            414 non-null    float64\n",
      " 3   X3 distance to the nearest MRT station  414 non-null    float64\n",
      " 4   X4 number of convenience stores         414 non-null    int64  \n",
      " 5   X5 latitude                             414 non-null    float64\n",
      " 6   X6 longitude                            414 non-null    float64\n",
      " 7   Y house price of unit area              414 non-null    float64\n",
      "dtypes: float64(6), int64(2)\n",
      "memory usage: 26.0 KB\n"
     ]
    }
   ],
   "source": [
    "df.info()"
   ]
  },
  {
   "cell_type": "code",
   "execution_count": 4,
   "id": "cae541d5",
   "metadata": {
    "execution": {
     "iopub.execute_input": "2022-02-14T03:45:21.507706Z",
     "iopub.status.busy": "2022-02-14T03:45:21.507062Z",
     "iopub.status.idle": "2022-02-14T03:45:21.509624Z",
     "shell.execute_reply": "2022-02-14T03:45:21.510222Z",
     "shell.execute_reply.started": "2022-02-14T03:41:49.929374Z"
    },
    "jupyter": {
     "outputs_hidden": false
    },
    "papermill": {
     "duration": 0.07941,
     "end_time": "2022-02-14T03:45:21.510388",
     "exception": false,
     "start_time": "2022-02-14T03:45:21.430978",
     "status": "completed"
    },
    "pycharm": {
     "name": "#%%\n"
    },
    "tags": []
   },
   "outputs": [
    {
     "data": {
      "text/html": [
       "<div>\n",
       "<style scoped>\n",
       "    .dataframe tbody tr th:only-of-type {\n",
       "        vertical-align: middle;\n",
       "    }\n",
       "\n",
       "    .dataframe tbody tr th {\n",
       "        vertical-align: top;\n",
       "    }\n",
       "\n",
       "    .dataframe thead th {\n",
       "        text-align: right;\n",
       "    }\n",
       "</style>\n",
       "<table border=\"1\" class=\"dataframe\">\n",
       "  <thead>\n",
       "    <tr style=\"text-align: right;\">\n",
       "      <th></th>\n",
       "      <th>No</th>\n",
       "      <th>X1 transaction date</th>\n",
       "      <th>X2 house age</th>\n",
       "      <th>X3 distance to the nearest MRT station</th>\n",
       "      <th>X4 number of convenience stores</th>\n",
       "      <th>X5 latitude</th>\n",
       "      <th>X6 longitude</th>\n",
       "    </tr>\n",
       "  </thead>\n",
       "  <tbody>\n",
       "    <tr>\n",
       "      <th>0</th>\n",
       "      <td>1</td>\n",
       "      <td>2012.917</td>\n",
       "      <td>32.0</td>\n",
       "      <td>84.87882</td>\n",
       "      <td>10</td>\n",
       "      <td>24.98298</td>\n",
       "      <td>121.54024</td>\n",
       "    </tr>\n",
       "    <tr>\n",
       "      <th>1</th>\n",
       "      <td>2</td>\n",
       "      <td>2012.917</td>\n",
       "      <td>19.5</td>\n",
       "      <td>306.59470</td>\n",
       "      <td>9</td>\n",
       "      <td>24.98034</td>\n",
       "      <td>121.53951</td>\n",
       "    </tr>\n",
       "    <tr>\n",
       "      <th>2</th>\n",
       "      <td>3</td>\n",
       "      <td>2013.583</td>\n",
       "      <td>13.3</td>\n",
       "      <td>561.98450</td>\n",
       "      <td>5</td>\n",
       "      <td>24.98746</td>\n",
       "      <td>121.54391</td>\n",
       "    </tr>\n",
       "    <tr>\n",
       "      <th>3</th>\n",
       "      <td>4</td>\n",
       "      <td>2013.500</td>\n",
       "      <td>13.3</td>\n",
       "      <td>561.98450</td>\n",
       "      <td>5</td>\n",
       "      <td>24.98746</td>\n",
       "      <td>121.54391</td>\n",
       "    </tr>\n",
       "    <tr>\n",
       "      <th>4</th>\n",
       "      <td>5</td>\n",
       "      <td>2012.833</td>\n",
       "      <td>5.0</td>\n",
       "      <td>390.56840</td>\n",
       "      <td>5</td>\n",
       "      <td>24.97937</td>\n",
       "      <td>121.54245</td>\n",
       "    </tr>\n",
       "  </tbody>\n",
       "</table>\n",
       "</div>"
      ],
      "text/plain": [
       "   No  X1 transaction date  X2 house age  \\\n",
       "0   1             2012.917          32.0   \n",
       "1   2             2012.917          19.5   \n",
       "2   3             2013.583          13.3   \n",
       "3   4             2013.500          13.3   \n",
       "4   5             2012.833           5.0   \n",
       "\n",
       "   X3 distance to the nearest MRT station  X4 number of convenience stores  \\\n",
       "0                                84.87882                               10   \n",
       "1                               306.59470                                9   \n",
       "2                               561.98450                                5   \n",
       "3                               561.98450                                5   \n",
       "4                               390.56840                                5   \n",
       "\n",
       "   X5 latitude  X6 longitude  \n",
       "0     24.98298     121.54024  \n",
       "1     24.98034     121.53951  \n",
       "2     24.98746     121.54391  \n",
       "3     24.98746     121.54391  \n",
       "4     24.97937     121.54245  "
      ]
     },
     "execution_count": 4,
     "metadata": {},
     "output_type": "execute_result"
    }
   ],
   "source": [
    "### Determin Features and Label value\n",
    "\n",
    "X= df.drop('Y house price of unit area', axis=1)\n",
    "y= df['Y house price of unit area']\n",
    "X.head(5)"
   ]
  },
  {
   "attachments": {},
   "cell_type": "markdown",
   "id": "f7799545",
   "metadata": {},
   "source": [
    "## Simple Linear Regression"
   ]
  },
  {
   "cell_type": "code",
   "execution_count": 8,
   "id": "f568633c",
   "metadata": {
    "execution": {
     "iopub.execute_input": "2022-02-14T03:45:21.759088Z",
     "iopub.status.busy": "2022-02-14T03:45:21.758429Z",
     "iopub.status.idle": "2022-02-14T03:45:21.763784Z",
     "shell.execute_reply": "2022-02-14T03:45:21.764312Z",
     "shell.execute_reply.started": "2022-02-14T03:41:49.945321Z"
    },
    "jupyter": {
     "outputs_hidden": false
    },
    "papermill": {
     "duration": 0.069908,
     "end_time": "2022-02-14T03:45:21.764482",
     "exception": false,
     "start_time": "2022-02-14T03:45:21.694574",
     "status": "completed"
    },
    "pycharm": {
     "name": "#%%\n"
    },
    "tags": []
   },
   "outputs": [
    {
     "data": {
      "text/html": [
       "<div>\n",
       "<style scoped>\n",
       "    .dataframe tbody tr th:only-of-type {\n",
       "        vertical-align: middle;\n",
       "    }\n",
       "\n",
       "    .dataframe tbody tr th {\n",
       "        vertical-align: top;\n",
       "    }\n",
       "\n",
       "    .dataframe thead th {\n",
       "        text-align: right;\n",
       "    }\n",
       "</style>\n",
       "<table border=\"1\" class=\"dataframe\">\n",
       "  <thead>\n",
       "    <tr style=\"text-align: right;\">\n",
       "      <th></th>\n",
       "      <th>Data_Test</th>\n",
       "      <th>Data_Predict</th>\n",
       "    </tr>\n",
       "  </thead>\n",
       "  <tbody>\n",
       "    <tr>\n",
       "      <th>176</th>\n",
       "      <td>19.2</td>\n",
       "      <td>12.802665</td>\n",
       "    </tr>\n",
       "    <tr>\n",
       "      <th>347</th>\n",
       "      <td>11.2</td>\n",
       "      <td>9.549151</td>\n",
       "    </tr>\n",
       "    <tr>\n",
       "      <th>307</th>\n",
       "      <td>24.7</td>\n",
       "      <td>22.516894</td>\n",
       "    </tr>\n",
       "    <tr>\n",
       "      <th>299</th>\n",
       "      <td>46.1</td>\n",
       "      <td>48.213227</td>\n",
       "    </tr>\n",
       "    <tr>\n",
       "      <th>391</th>\n",
       "      <td>31.3</td>\n",
       "      <td>31.972364</td>\n",
       "    </tr>\n",
       "    <tr>\n",
       "      <th>212</th>\n",
       "      <td>31.1</td>\n",
       "      <td>37.788209</td>\n",
       "    </tr>\n",
       "    <tr>\n",
       "      <th>104</th>\n",
       "      <td>30.5</td>\n",
       "      <td>36.461296</td>\n",
       "    </tr>\n",
       "    <tr>\n",
       "      <th>311</th>\n",
       "      <td>42.2</td>\n",
       "      <td>40.760966</td>\n",
       "    </tr>\n",
       "    <tr>\n",
       "      <th>98</th>\n",
       "      <td>51.0</td>\n",
       "      <td>48.114551</td>\n",
       "    </tr>\n",
       "    <tr>\n",
       "      <th>198</th>\n",
       "      <td>39.1</td>\n",
       "      <td>40.497840</td>\n",
       "    </tr>\n",
       "  </tbody>\n",
       "</table>\n",
       "</div>"
      ],
      "text/plain": [
       "     Data_Test  Data_Predict\n",
       "176       19.2     12.802665\n",
       "347       11.2      9.549151\n",
       "307       24.7     22.516894\n",
       "299       46.1     48.213227\n",
       "391       31.3     31.972364\n",
       "212       31.1     37.788209\n",
       "104       30.5     36.461296\n",
       "311       42.2     40.760966\n",
       "98        51.0     48.114551\n",
       "198       39.1     40.497840"
      ]
     },
     "execution_count": 8,
     "metadata": {},
     "output_type": "execute_result"
    }
   ],
   "source": [
    "## LINEAR REGRESSION MODEL\n",
    "\n",
    "### Split Dataset to Train & Test\n",
    "from sklearn.model_selection import train_test_split\n",
    "X_train, X_test, y_train, y_test = train_test_split(X, y, test_size=0.3,random_state=101)\n",
    "\n",
    "### Train the Model \n",
    "from sklearn.linear_model import LinearRegression\n",
    "model = LinearRegression()\n",
    "model.fit(X_train, y_train)\n",
    "\n",
    "### Data Prediction\n",
    "y_pred = model.predict(X_test)\n",
    "pd.DataFrame({'Data_Test':y_test, 'Data_Predict': y_pred}).head(10)\n"
   ]
  },
  {
   "cell_type": "code",
   "execution_count": 9,
   "id": "c6b4e395",
   "metadata": {},
   "outputs": [
    {
     "data": {
      "text/html": [
       "<div>\n",
       "<style scoped>\n",
       "    .dataframe tbody tr th:only-of-type {\n",
       "        vertical-align: middle;\n",
       "    }\n",
       "\n",
       "    .dataframe tbody tr th {\n",
       "        vertical-align: top;\n",
       "    }\n",
       "\n",
       "    .dataframe thead th {\n",
       "        text-align: right;\n",
       "    }\n",
       "</style>\n",
       "<table border=\"1\" class=\"dataframe\">\n",
       "  <thead>\n",
       "    <tr style=\"text-align: right;\">\n",
       "      <th></th>\n",
       "      <th>METRICS</th>\n",
       "    </tr>\n",
       "  </thead>\n",
       "  <tbody>\n",
       "    <tr>\n",
       "      <th>MAE</th>\n",
       "      <td>5.373025</td>\n",
       "    </tr>\n",
       "    <tr>\n",
       "      <th>MSE</th>\n",
       "      <td>45.880307</td>\n",
       "    </tr>\n",
       "    <tr>\n",
       "      <th>RMSE</th>\n",
       "      <td>6.773500</td>\n",
       "    </tr>\n",
       "  </tbody>\n",
       "</table>\n",
       "</div>"
      ],
      "text/plain": [
       "        METRICS\n",
       "MAE    5.373025\n",
       "MSE   45.880307\n",
       "RMSE   6.773500"
      ]
     },
     "execution_count": 9,
     "metadata": {},
     "output_type": "execute_result"
    }
   ],
   "source": [
    "###  Evaluation Model\n",
    "\n",
    "from sklearn import metrics\n",
    "MAE = metrics.mean_absolute_error(y_test, y_pred)\n",
    "MSE = metrics.mean_squared_error(y_test, y_pred)\n",
    "RMSE = np.sqrt(MSE)\n",
    "pd.DataFrame([MAE, MSE, RMSE],index=['MAE','MSE','RMSE'], columns=['METRICS']).head()"
   ]
  },
  {
   "cell_type": "code",
   "execution_count": 10,
   "id": "2ffabaa4",
   "metadata": {
    "execution": {
     "iopub.execute_input": "2022-02-14T03:45:23.246454Z",
     "iopub.status.busy": "2022-02-14T03:45:23.245812Z",
     "iopub.status.idle": "2022-02-14T03:45:23.462438Z",
     "shell.execute_reply": "2022-02-14T03:45:23.463062Z",
     "shell.execute_reply.started": "2022-02-14T03:41:50.067309Z"
    },
    "jupyter": {
     "outputs_hidden": false
    },
    "papermill": {
     "duration": 0.284112,
     "end_time": "2022-02-14T03:45:23.463257",
     "exception": false,
     "start_time": "2022-02-14T03:45:23.179145",
     "status": "completed"
    },
    "pycharm": {
     "name": "#%%\n"
    },
    "tags": []
   },
   "outputs": [
    {
     "data": {
      "text/plain": [
       "Text(0, 0.5, 'Y_Pred')"
      ]
     },
     "execution_count": 10,
     "metadata": {},
     "output_type": "execute_result"
    },
    {
     "data": {
      "image/png": "[encoded data removed]",
      "text/plain": [
       "<Figure size 640x480 with 1 Axes>"
      ]
     },
     "metadata": {},
     "output_type": "display_data"
    }
   ],
   "source": [
    "#Residuals\n",
    "sns.scatterplot(x= y_test, y=y_pred)\n",
    "plt.xlabel('Y_Test')\n",
    "plt.ylabel('Y_Pred')"
   ]
  },
  {
   "attachments": {},
   "cell_type": "markdown",
   "id": "f19ee142",
   "metadata": {},
   "source": [
    "## Polynomial Regression"
   ]
  },
  {
   "cell_type": "code",
   "execution_count": 12,
   "id": "06ffa730",
   "metadata": {},
   "outputs": [
    {
     "data": {
      "text/plain": [
       "(414, 8)"
      ]
     },
     "execution_count": 12,
     "metadata": {},
     "output_type": "execute_result"
    }
   ],
   "source": [
    "df.shape"
   ]
  },
  {
   "cell_type": "code",
   "execution_count": 13,
   "id": "ed8a94ce",
   "metadata": {
    "papermill": {
     "duration": 0.067693,
     "end_time": "2022-02-14T03:45:24.429978",
     "exception": false,
     "start_time": "2022-02-14T03:45:24.362285",
     "status": "completed"
    },
    "pycharm": {
     "name": "#%% raw\n"
    },
    "tags": []
   },
   "outputs": [
    {
     "data": {
      "text/plain": [
       "(414, 35)"
      ]
     },
     "execution_count": 13,
     "metadata": {},
     "output_type": "execute_result"
    }
   ],
   "source": [
    "## POLYNOMIAL REGRESSION\n",
    "\n",
    "from sklearn.preprocessing import PolynomialFeatures\n",
    "poly_converter = PolynomialFeatures(degree = 2, include_bias = False)\n",
    "poly_features = poly_converter.fit_transform(X)\n",
    "poly_features.shape"
   ]
  },
  {
   "cell_type": "code",
   "execution_count": 17,
   "id": "9eebb80e",
   "metadata": {
    "execution": {
     "iopub.execute_input": "2022-02-14T03:45:25.144794Z",
     "iopub.status.busy": "2022-02-14T03:45:25.143817Z",
     "iopub.status.idle": "2022-02-14T03:45:25.147280Z",
     "shell.execute_reply": "2022-02-14T03:45:25.147896Z",
     "shell.execute_reply.started": "2022-02-14T03:41:50.884506Z"
    },
    "jupyter": {
     "outputs_hidden": false
    },
    "papermill": {
     "duration": 0.077596,
     "end_time": "2022-02-14T03:45:25.148066",
     "exception": false,
     "start_time": "2022-02-14T03:45:25.070470",
     "status": "completed"
    },
    "pycharm": {
     "name": "#%%\n"
    },
    "tags": []
   },
   "outputs": [
    {
     "name": "stdout",
     "output_type": "stream",
     "text": [
      "(35,)\n"
     ]
    }
   ],
   "source": [
    "## Split Dataset to Train & Test\n",
    "X_poly_train, X_poly_test, y_poly_train, y_poly_test = train_test_split(poly_features, y, test_size=0.3, random_state=101)\n",
    "polymodel_norm = LinearRegression()\n",
    "model_fitted_normalized = polymodel_norm.fit(X_poly_train, y_poly_train )\n",
    "print(polymodel_norm.coef_.shape)"
   ]
  },
  {
   "cell_type": "code",
   "execution_count": 22,
   "id": "992d39c7",
   "metadata": {},
   "outputs": [
    {
     "data": {
      "text/html": [
       "<div>\n",
       "<style scoped>\n",
       "    .dataframe tbody tr th:only-of-type {\n",
       "        vertical-align: middle;\n",
       "    }\n",
       "\n",
       "    .dataframe tbody tr th {\n",
       "        vertical-align: top;\n",
       "    }\n",
       "\n",
       "    .dataframe thead th {\n",
       "        text-align: right;\n",
       "    }\n",
       "</style>\n",
       "<table border=\"1\" class=\"dataframe\">\n",
       "  <thead>\n",
       "    <tr style=\"text-align: right;\">\n",
       "      <th></th>\n",
       "      <th>Actual Data Test</th>\n",
       "      <th>simple Linear Prediction</th>\n",
       "      <th>Poly Linear Prediction</th>\n",
       "      <th>Poly Residuals</th>\n",
       "    </tr>\n",
       "  </thead>\n",
       "  <tbody>\n",
       "    <tr>\n",
       "      <th>176</th>\n",
       "      <td>19.2</td>\n",
       "      <td>12.802665</td>\n",
       "      <td>16.382272</td>\n",
       "      <td>2.817728</td>\n",
       "    </tr>\n",
       "    <tr>\n",
       "      <th>347</th>\n",
       "      <td>11.2</td>\n",
       "      <td>9.549151</td>\n",
       "      <td>3.929481</td>\n",
       "      <td>7.270519</td>\n",
       "    </tr>\n",
       "    <tr>\n",
       "      <th>307</th>\n",
       "      <td>24.7</td>\n",
       "      <td>22.516894</td>\n",
       "      <td>17.438132</td>\n",
       "      <td>7.261868</td>\n",
       "    </tr>\n",
       "    <tr>\n",
       "      <th>299</th>\n",
       "      <td>46.1</td>\n",
       "      <td>48.213227</td>\n",
       "      <td>47.146092</td>\n",
       "      <td>-1.046092</td>\n",
       "    </tr>\n",
       "    <tr>\n",
       "      <th>391</th>\n",
       "      <td>31.3</td>\n",
       "      <td>31.972364</td>\n",
       "      <td>27.340914</td>\n",
       "      <td>3.959086</td>\n",
       "    </tr>\n",
       "  </tbody>\n",
       "</table>\n",
       "</div>"
      ],
      "text/plain": [
       "     Actual Data Test  simple Linear Prediction  Poly Linear Prediction  \\\n",
       "176              19.2                 12.802665               16.382272   \n",
       "347              11.2                  9.549151                3.929481   \n",
       "307              24.7                 22.516894               17.438132   \n",
       "299              46.1                 48.213227               47.146092   \n",
       "391              31.3                 31.972364               27.340914   \n",
       "\n",
       "     Poly Residuals  \n",
       "176        2.817728  \n",
       "347        7.270519  \n",
       "307        7.261868  \n",
       "299       -1.046092  \n",
       "391        3.959086  "
      ]
     },
     "execution_count": 22,
     "metadata": {},
     "output_type": "execute_result"
    }
   ],
   "source": [
    "##Data Prediction\n",
    "y_poly_pred = polymodel_norm.predict(X_poly_test)\n",
    "pd.DataFrame({'Actual Data Test':y_test, 'simple Linear Prediction': y_pred,'Poly Linear Prediction':y_poly_pred, 'Poly Residuals': y_poly_test-y_poly_pred}).head()"
   ]
  },
  {
   "cell_type": "code",
   "execution_count": 23,
   "id": "749d6602",
   "metadata": {
    "execution": {
     "iopub.execute_input": "2022-02-14T03:45:26.092569Z",
     "iopub.status.busy": "2022-02-14T03:45:26.091877Z",
     "iopub.status.idle": "2022-02-14T03:45:26.210173Z",
     "shell.execute_reply": "2022-02-14T03:45:26.209501Z",
     "shell.execute_reply.started": "2022-02-14T03:41:50.976646Z"
    },
    "jupyter": {
     "outputs_hidden": false
    },
    "papermill": {
     "duration": 0.198499,
     "end_time": "2022-02-14T03:45:26.210479",
     "exception": true,
     "start_time": "2022-02-14T03:45:26.011980",
     "status": "failed"
    },
    "pycharm": {
     "name": "#%%\n"
    },
    "tags": []
   },
   "outputs": [
    {
     "data": {
      "text/html": [
       "<div>\n",
       "<style scoped>\n",
       "    .dataframe tbody tr th:only-of-type {\n",
       "        vertical-align: middle;\n",
       "    }\n",
       "\n",
       "    .dataframe tbody tr th {\n",
       "        vertical-align: top;\n",
       "    }\n",
       "\n",
       "    .dataframe thead th {\n",
       "        text-align: right;\n",
       "    }\n",
       "</style>\n",
       "<table border=\"1\" class=\"dataframe\">\n",
       "  <thead>\n",
       "    <tr style=\"text-align: right;\">\n",
       "      <th></th>\n",
       "      <th>metrics</th>\n",
       "    </tr>\n",
       "  </thead>\n",
       "  <tbody>\n",
       "    <tr>\n",
       "      <th>MAE_Poly</th>\n",
       "      <td>4.490907</td>\n",
       "    </tr>\n",
       "    <tr>\n",
       "      <th>MSE_Poly</th>\n",
       "      <td>32.402909</td>\n",
       "    </tr>\n",
       "    <tr>\n",
       "      <th>RMSE_Poly</th>\n",
       "      <td>5.692355</td>\n",
       "    </tr>\n",
       "  </tbody>\n",
       "</table>\n",
       "</div>"
      ],
      "text/plain": [
       "             metrics\n",
       "MAE_Poly    4.490907\n",
       "MSE_Poly   32.402909\n",
       "RMSE_Poly   5.692355"
      ]
     },
     "execution_count": 23,
     "metadata": {},
     "output_type": "execute_result"
    }
   ],
   "source": [
    "## Evaluation\n",
    "from sklearn import metrics\n",
    "MAE_Poly = metrics.mean_absolute_error(y_poly_test,y_poly_pred)\n",
    "MSE_Poly = metrics.mean_squared_error(y_poly_test,y_poly_pred)\n",
    "RMSE_Poly = np.sqrt(MSE_Poly)\n",
    "\n",
    "pd.DataFrame([MAE_Poly, MSE_Poly, RMSE_Poly], index=['MAE_Poly', 'MSE_Poly', 'RMSE_Poly'], columns=['metrics'])"
   ]
  }
 ],
 "metadata": {
  "kernelspec": {
   "display_name": "Python 3",
   "language": "python",
   "name": "python3"
  },
  "language_info": {
   "codemirror_mode": {
    "name": "ipython",
    "version": 3
   },
   "file_extension": ".py",
   "mimetype": "text/x-python",
   "name": "python",
   "nbconvert_exporter": "python",
   "pygments_lexer": "ipython3",
   "version": "3.9.16"
  },
  "papermill": {
   "default_parameters": {},
   "duration": 31.855672,
   "end_time": "2022-02-14T03:45:27.191564",
   "environment_variables": {},
   "exception": true,
   "input_path": "__notebook__.ipynb",
   "output_path": "__notebook__.ipynb",
   "parameters": {},
   "start_time": "2022-02-14T03:44:55.335892",
   "version": "2.3.3"
  },
  "vscode": {
   "interpreter": {
    "hash": "067ff290778bdd7bd3ffd7f3b5a548730a8cc505518151a414411aab8e2ef9d4"
   }
  }
 },
 "nbformat": 4,
 "nbformat_minor": 5
}
